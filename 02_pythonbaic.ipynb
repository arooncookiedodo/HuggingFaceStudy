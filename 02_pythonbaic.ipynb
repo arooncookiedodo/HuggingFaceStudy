{
  "nbformat": 4,
  "nbformat_minor": 0,
  "metadata": {
    "colab": {
      "provenance": [],
      "include_colab_link": true
    },
    "kernelspec": {
      "name": "python3",
      "display_name": "Python 3"
    },
    "language_info": {
      "name": "python"
    }
  },
  "cells": [
    {
      "cell_type": "markdown",
      "metadata": {
        "id": "view-in-github",
        "colab_type": "text"
      },
      "source": [
        "<a href=\"https://colab.research.google.com/github/arooncookiedodo/HuggingFaceStudy/blob/main/02_pythonbaic.ipynb\" target=\"_parent\"><img src=\"https://colab.research.google.com/assets/colab-badge.svg\" alt=\"Open In Colab\"/></a>"
      ]
    },
    {
      "cell_type": "markdown",
      "source": [
        "**1. 자료형 (Data Types)**"
      ],
      "metadata": {
        "id": "U7gftz4VFMV3"
      }
    },
    {
      "cell_type": "code",
      "execution_count": null,
      "metadata": {
        "id": "4Xu5xs-ZFGk2",
        "outputId": "de1a5b61-f5cd-49d6-c27d-2ffe331f0cbb",
        "colab": {
          "base_uri": "https://localhost:8080/"
        }
      },
      "outputs": [
        {
          "output_type": "stream",
          "name": "stdout",
          "text": [
            "정수형: 10\n",
            "실수형: 3.14\n",
            "문자열: Hello, Python!\n",
            "리스트: [1, 2, 3, 4, 5]\n",
            "튜플: (1, 2, 3)\n",
            "딕셔너리: {'name': 'John', 'age': 30}\n",
            "집합: {1, 2, 3, 4, 5}\n"
          ]
        }
      ],
      "source": [
        "# 정수형\n",
        "a = 10\n",
        "print(\"정수형:\", a)\n",
        "\n",
        "# 실수형\n",
        "b = 3.14\n",
        "print(\"실수형:\", b)\n",
        "\n",
        "# 문자열\n",
        "c = \"Hello, Python!\"\n",
        "print(\"문자열:\", c)\n",
        "\n",
        "# 리스트\n",
        "d = [1, 2, 3, 4, 5]\n",
        "print(\"리스트:\", d)\n",
        "\n",
        "# 튜플\n",
        "e = (1, 2, 3)\n",
        "print(\"튜플:\", e)\n",
        "\n",
        "# 딕셔너리\n",
        "f = {\"name\": \"John\", \"age\": 30}\n",
        "print(\"딕셔너리:\", f)\n",
        "\n",
        "# 집합\n",
        "g = {1, 2, 3, 4, 5}\n",
        "print(\"집합:\", g)\n"
      ]
    },
    {
      "cell_type": "markdown",
      "source": [
        "**2. 연산자 (Operators)**"
      ],
      "metadata": {
        "id": "s2eq8WhIFXt1"
      }
    },
    {
      "cell_type": "code",
      "source": [
        "# 산술 연산자\n",
        "x = 10\n",
        "y = 3\n",
        "print(\"더하기:\", x + y)\n",
        "print(\"빼기:\", x - y)\n",
        "print(\"곱하기:\", x * y)\n",
        "print(\"나누기:\", x / y)\n",
        "print(\"나머지:\", x % y)\n",
        "print(\"거듭제곱:\", x ** y)\n",
        "\n",
        "# 비교 연산자\n",
        "print(\"크다:\", x > y)\n",
        "print(\"작다:\", x < y)\n",
        "print(\"같다:\", x == y)\n",
        "print(\"다르다:\", x != y)\n",
        "\n",
        "# 논리 연산자\n",
        "print(\"그리고:\", x > 5 and y < 5)\n",
        "print(\"또는:\", x > 5 or y < 2)\n",
        "print(\"부정:\", not(x > 5))\n"
      ],
      "metadata": {
        "id": "0BcpsPbnFa1R"
      },
      "execution_count": null,
      "outputs": []
    },
    {
      "cell_type": "markdown",
      "source": [
        "**3. 문자열 (Strings)**"
      ],
      "metadata": {
        "id": "hmb0Wq90Fc5k"
      }
    },
    {
      "cell_type": "code",
      "source": [
        "# 문자열 다루기\n",
        "s = \"Hello, World!\"\n",
        "print(\"문자열 길이:\", len(s))\n",
        "print(\"대문자 변환:\", s.upper())\n",
        "print(\"소문자 변환:\", s.lower())\n",
        "print(\"문자열 자르기:\", s[0:5])\n",
        "print(\"문자열 나누기:\", s.split(\", \"))\n",
        "print(\"문자열 포함 여부:\", \"World\" in s)\n"
      ],
      "metadata": {
        "id": "H06SNgTKFgbq"
      },
      "execution_count": null,
      "outputs": []
    },
    {
      "cell_type": "markdown",
      "source": [
        "**4. 제어문 (Control Statements)**"
      ],
      "metadata": {
        "id": "5iTqVMGeFfbS"
      }
    },
    {
      "cell_type": "code",
      "source": [
        "# if문\n",
        "num = 10\n",
        "if num > 0:\n",
        "    print(\"양수입니다.\")\n",
        "elif num == 0:\n",
        "    print(\"0입니다.\")\n",
        "else:\n",
        "    print(\"음수입니다.\")\n",
        "\n",
        "# for문\n",
        "for i in range(5):\n",
        "    print(\"for문 실행:\", i)\n",
        "\n",
        "# while문\n",
        "count = 0\n",
        "while count < 5:\n",
        "    print(\"while문 실행:\", count)\n",
        "    count += 1\n"
      ],
      "metadata": {
        "id": "7EAbDW7qFmN6"
      },
      "execution_count": null,
      "outputs": []
    },
    {
      "cell_type": "markdown",
      "source": [
        "**5. 함수 (Functions)**"
      ],
      "metadata": {
        "id": "Tqp9E5Q1Fp8-"
      }
    },
    {
      "cell_type": "code",
      "source": [
        "# 함수 정의 및 호출\n",
        "def greet(name):\n",
        "    return f\"Hello, {name}!\"\n",
        "\n",
        "print(greet(\"Python\"))\n",
        "\n",
        "# 1부터 n까지의 합을 계산하는 함수\n",
        "def sum_to_n(n):\n",
        "    total = 0\n",
        "    for i in range(1, n + 1):\n",
        "        total += i\n",
        "    return total\n",
        "\n",
        "print(\"1부터 10까지의 합:\", sum_to_n(10))\n"
      ],
      "metadata": {
        "id": "x75sHnRjFpJt"
      },
      "execution_count": null,
      "outputs": []
    },
    {
      "cell_type": "markdown",
      "source": [
        "**6. 입출력 (Input/Output)**"
      ],
      "metadata": {
        "id": "WsD9X4pFFuQC"
      }
    },
    {
      "cell_type": "code",
      "source": [
        "# 사용자 입력 받기\n",
        "name = input(\"이름을 입력하세요: \")\n",
        "print(f\"안녕하세요, {name}님!\")\n",
        "\n",
        "# 파일 입출력\n",
        "with open(\"example.txt\", \"w\") as file:\n",
        "    file.write(\"This is an example text file.\")\n",
        "\n",
        "with open(\"example.txt\", \"r\") as file:\n",
        "    content = file.read()\n",
        "    print(\"파일 내용:\", content)\n"
      ],
      "metadata": {
        "id": "Rs5GstYAFwf6"
      },
      "execution_count": null,
      "outputs": []
    },
    {
      "cell_type": "markdown",
      "source": [
        "**7. 클래스 (Class)**"
      ],
      "metadata": {
        "id": "iAPo3zoNF0bS"
      }
    },
    {
      "cell_type": "code",
      "source": [
        "# 클래스 정의\n",
        "class Dog:\n",
        "    def __init__(self, name, age):\n",
        "        self.name = name\n",
        "        self.age = age\n",
        "\n",
        "    def bark(self):\n",
        "        return f\"{self.name} says woof!\"\n",
        "\n",
        "# 클래스 사용\n",
        "my_dog = Dog(\"Buddy\", 3)\n",
        "print(my_dog.bark())\n"
      ],
      "metadata": {
        "id": "qIrM37eqF1KP"
      },
      "execution_count": null,
      "outputs": []
    },
    {
      "cell_type": "markdown",
      "source": [
        "**추가 예시: 다양한 타입의 변수**"
      ],
      "metadata": {
        "id": "lewW4OO2GBfi"
      }
    },
    {
      "cell_type": "code",
      "source": [
        "x = 10         # 정수형 할당\n",
        "print(type(x)) # 출력: <class 'int'>\n",
        "\n",
        "x = \"Hello\"    # 문자열 할당\n",
        "print(type(x)) # 출력: <class 'str'>\n",
        "\n",
        "x = 3.14       # 실수형 할당\n",
        "print(type(x)) # 출력: <class 'float'>\n"
      ],
      "metadata": {
        "id": "jAKgbfRvGDSj"
      },
      "execution_count": null,
      "outputs": []
    }
  ]
}